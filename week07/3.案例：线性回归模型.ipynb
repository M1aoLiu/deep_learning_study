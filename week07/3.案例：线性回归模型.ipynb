{
 "cells": [
  {
   "cell_type": "code",
   "execution_count": 1,
   "metadata": {},
   "outputs": [],
   "source": [
    "import torch\n",
    "import torch.nn as nn\n",
    "import numpy as np"
   ]
  },
  {
   "cell_type": "markdown",
   "metadata": {},
   "source": [
    "线性回归方程：y=2\\*x+1"
   ]
  },
  {
   "cell_type": "code",
   "execution_count": 2,
   "metadata": {},
   "outputs": [
    {
     "data": {
      "text/plain": [
       "(10, 1)"
      ]
     },
     "execution_count": 2,
     "metadata": {},
     "output_type": "execute_result"
    }
   ],
   "source": [
    "x_values = [i for i in range(10)]\n",
    "x_train = np.array(x_values, dtype=np.float32)\n",
    "x_train = x_train.reshape(-1,1)\n",
    "x_train.shape"
   ]
  },
  {
   "cell_type": "code",
   "execution_count": 3,
   "metadata": {},
   "outputs": [
    {
     "data": {
      "text/plain": [
       "(10, 1)"
      ]
     },
     "execution_count": 3,
     "metadata": {},
     "output_type": "execute_result"
    }
   ],
   "source": [
    "y_values = [2*i+1 for i in range(10)]\n",
    "y_train = np.array(y_values, dtype=np.float32)\n",
    "y_train = y_train.reshape(-1,1)\n",
    "y_train.shape"
   ]
  },
  {
   "cell_type": "markdown",
   "metadata": {},
   "source": [
    "# 线性回归模型"
   ]
  },
  {
   "cell_type": "code",
   "execution_count": 4,
   "metadata": {},
   "outputs": [],
   "source": [
    "class LinearRegressionModel(nn.Module):\n",
    "    def __init__(self, input_dim, output_dim):\n",
    "        super(LinearRegressionModel, self).__init__()\n",
    "        self.linear = nn.Linear(input_dim, output_dim)\n",
    "    \n",
    "    def forward(self, x):\n",
    "        out = self.linear(x)\n",
    "        return out"
   ]
  },
  {
   "cell_type": "code",
   "execution_count": 5,
   "metadata": {},
   "outputs": [],
   "source": [
    "input_dim=1\n",
    "output_dim=1\n",
    "model = LinearRegressionModel(input_dim, output_dim)"
   ]
  },
  {
   "cell_type": "code",
   "execution_count": 6,
   "metadata": {},
   "outputs": [
    {
     "data": {
      "text/plain": [
       "LinearRegressionModel(\n",
       "  (linear): Linear(in_features=1, out_features=1, bias=True)\n",
       ")"
      ]
     },
     "execution_count": 6,
     "metadata": {},
     "output_type": "execute_result"
    }
   ],
   "source": [
    "model"
   ]
  },
  {
   "cell_type": "markdown",
   "metadata": {},
   "source": [
    "## 指定参数和损失函数"
   ]
  },
  {
   "cell_type": "code",
   "execution_count": 8,
   "metadata": {},
   "outputs": [],
   "source": [
    "epochs = 1000 #迭代次数\n",
    "lr = 1e-2 #学习率\n",
    "# 优化参数。指定需要优化的参数以及学习率\n",
    "optimizer = torch.optim.SGD(model.parameters(),lr=lr)\n",
    "criterion = nn.MSELoss() #使用的损失函数"
   ]
  },
  {
   "cell_type": "markdown",
   "metadata": {},
   "source": [
    "## 训练模型\n",
    " 1. 设置输入以及标签值\n",
    " 2. 前向传播\n",
    " 3. 计算损失函数\n",
    " 4. 反向传播\n",
    " 5. 梯度更新"
   ]
  },
  {
   "cell_type": "code",
   "execution_count": 11,
   "metadata": {
    "collapsed": true,
    "jupyter": {
     "outputs_hidden": true
    }
   },
   "outputs": [
    {
     "name": "stdout",
     "output_type": "stream",
     "text": [
      "epoch 50, loss 3.35103891302424e-08\n",
      "epoch 100, loss 1.9047513788450487e-08\n",
      "epoch 150, loss 1.0816217255182892e-08\n",
      "epoch 200, loss 6.1373213178228525e-09\n",
      "epoch 250, loss 3.4964400263959305e-09\n",
      "epoch 300, loss 1.9886816637892935e-09\n",
      "epoch 350, loss 1.121799542147528e-09\n",
      "epoch 400, loss 6.447408162912893e-10\n",
      "epoch 450, loss 3.7056366308796385e-10\n",
      "epoch 500, loss 2.1605614519693006e-10\n",
      "epoch 550, loss 1.2824016848433928e-10\n",
      "epoch 600, loss 7.759730358269934e-11\n",
      "epoch 650, loss 5.023004234772088e-11\n",
      "epoch 700, loss 3.169340484499017e-11\n",
      "epoch 750, loss 2.0691004465334117e-11\n",
      "epoch 800, loss 2.0691004465334117e-11\n",
      "epoch 850, loss 2.0691004465334117e-11\n",
      "epoch 900, loss 2.0691004465334117e-11\n",
      "epoch 950, loss 2.0691004465334117e-11\n",
      "epoch 1000, loss 2.0691004465334117e-11\n"
     ]
    }
   ],
   "source": [
    "for epoch in range(epochs):\n",
    "    epoch += 1\n",
    "    # 设置输入以及标签值\n",
    "    inputs = torch.from_numpy(x_train)\n",
    "    labels = torch.from_numpy(y_train)\n",
    "    \n",
    "    #每次迭代梯度要清零\n",
    "    optimizer.zero_grad()\n",
    "    \n",
    "    #前向传播\n",
    "    outputs = model.forward(inputs)\n",
    "    \n",
    "    #计算损失函数\n",
    "    loss = criterion(outputs, labels)\n",
    "    \n",
    "    #反向传播\n",
    "    loss.backward()\n",
    "    \n",
    "    #更新参数\n",
    "    optimizer.step()\n",
    "    if epoch % 50 == 0:\n",
    "        print(\"epoch {}, loss {}\".format(epoch, loss.item()))\n"
   ]
  },
  {
   "cell_type": "markdown",
   "metadata": {},
   "source": [
    "## 模型测试"
   ]
  },
  {
   "cell_type": "code",
   "execution_count": 16,
   "metadata": {},
   "outputs": [
    {
     "data": {
      "text/plain": [
       "array([[ 0.9999919],\n",
       "       [ 2.9999933],\n",
       "       [ 4.9999948],\n",
       "       [ 6.999996 ],\n",
       "       [ 8.999998 ],\n",
       "       [11.       ],\n",
       "       [13.       ],\n",
       "       [15.000002 ],\n",
       "       [17.000004 ],\n",
       "       [19.000006 ]], dtype=float32)"
      ]
     },
     "execution_count": 16,
     "metadata": {},
     "output_type": "execute_result"
    }
   ],
   "source": [
    "predict = model(torch.from_numpy(x_train)).data.numpy()\n",
    "predict"
   ]
  },
  {
   "cell_type": "markdown",
   "metadata": {},
   "source": [
    "## 模型文件保存与读取"
   ]
  },
  {
   "cell_type": "code",
   "execution_count": null,
   "metadata": {},
   "outputs": [],
   "source": [
    "torch.save(model.state_dict(),\"model.pkl\")\n",
    "model.load_state_dict(torch.load(\"model.pkl\"))"
   ]
  },
  {
   "cell_type": "markdown",
   "metadata": {},
   "source": [
    "# 如何使用GPU进行训练\n",
    "- 将数据和模型放入GPU即可"
   ]
  },
  {
   "cell_type": "code",
   "execution_count": 17,
   "metadata": {
    "collapsed": true,
    "jupyter": {
     "outputs_hidden": true
    }
   },
   "outputs": [
    {
     "name": "stdout",
     "output_type": "stream",
     "text": [
      "epoch 50, loss 0.37465938925743103\n",
      "epoch 100, loss 0.2126588672399521\n",
      "epoch 150, loss 0.12070643901824951\n",
      "epoch 200, loss 0.06851363927125931\n",
      "epoch 250, loss 0.038888778537511826\n",
      "epoch 300, loss 0.02207350730895996\n",
      "epoch 350, loss 0.012529070489108562\n",
      "epoch 400, loss 0.007111565209925175\n",
      "epoch 450, loss 0.004036551807075739\n",
      "epoch 500, loss 0.0022911601699888706\n",
      "epoch 550, loss 0.0013004903448745608\n",
      "epoch 600, loss 0.0007381624891422689\n",
      "epoch 650, loss 0.0004189938772469759\n",
      "epoch 700, loss 0.0002378183853579685\n",
      "epoch 750, loss 0.0001349922822555527\n",
      "epoch 800, loss 7.661798008484766e-05\n",
      "epoch 850, loss 4.34893554484006e-05\n",
      "epoch 900, loss 2.4684903110028245e-05\n",
      "epoch 950, loss 1.4011595339979976e-05\n",
      "epoch 1000, loss 7.95307096268516e-06\n"
     ]
    }
   ],
   "source": [
    "class LinearRegressionModel(nn.Module):\n",
    "    def __init__(self, input_dim, output_dim):\n",
    "        super(LinearRegressionModel, self).__init__()\n",
    "        self.linear = nn.Linear(input_dim, output_dim)\n",
    "    \n",
    "    def forward(self, x):\n",
    "        out = self.linear(x)\n",
    "        return out\n",
    "    \n",
    "input_dim=1\n",
    "output_dim=1\n",
    "model = LinearRegressionModel(input_dim, output_dim)\n",
    "\n",
    "# 设置使用的CUDA设备\n",
    "device = torch.device(\"cuda:0\" if torch.cuda.is_available() else \"cpu\")\n",
    "model.to(device) #将模型送至GPU上\n",
    "\n",
    "epochs = 1000 #迭代次数\n",
    "lr = 1e-2 #学习率\n",
    "# 优化参数。指定需要优化的参数以及学习率\n",
    "optimizer = torch.optim.SGD(model.parameters(),lr=lr)\n",
    "criterion = nn.MSELoss() #使用的损失函数\n",
    "\n",
    "for epoch in range(epochs):\n",
    "    epoch += 1\n",
    "    # 设置输入以及标签值\n",
    "    inputs = torch.from_numpy(x_train).to(device)\n",
    "    labels = torch.from_numpy(y_train).to(device)\n",
    "    \n",
    "    #每次迭代梯度要清零\n",
    "    optimizer.zero_grad()\n",
    "    \n",
    "    #前向传播\n",
    "    outputs = model.forward(inputs)\n",
    "    \n",
    "    #计算损失函数\n",
    "    loss = criterion(outputs, labels)\n",
    "    \n",
    "    #反向传播\n",
    "    loss.backward()\n",
    "    \n",
    "    #更新参数\n",
    "    optimizer.step()\n",
    "    if epoch % 50 == 0:\n",
    "        print(\"epoch {}, loss {}\".format(epoch, loss.item()))"
   ]
  },
  {
   "cell_type": "code",
   "execution_count": null,
   "metadata": {},
   "outputs": [],
   "source": []
  }
 ],
 "metadata": {
  "kernelspec": {
   "display_name": "Python 3",
   "language": "python",
   "name": "python3"
  },
  "language_info": {
   "codemirror_mode": {
    "name": "ipython",
    "version": 3
   },
   "file_extension": ".py",
   "mimetype": "text/x-python",
   "name": "python",
   "nbconvert_exporter": "python",
   "pygments_lexer": "ipython3",
   "version": "3.7.6"
  }
 },
 "nbformat": 4,
 "nbformat_minor": 4
}
